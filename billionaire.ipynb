{
 "cells": [
  {
   "cell_type": "code",
   "execution_count": 1,
   "metadata": {},
   "outputs": [
    {
     "name": "stdout",
     "output_type": "stream",
     "text": [
      "     industries                 personName  finalWorth  industry_rank\n",
      "0    Automotive                  Elon Musk      180000              1\n",
      "1    Automotive                 Robin Zeng       33400              2\n",
      "2    Automotive            Susanne Klatten       27400              3\n",
      "3    Automotive              Stefan Quandt       24600              4\n",
      "4    Automotive                    Eric Li       19000              5\n",
      "..          ...                        ...         ...            ...\n",
      "470  Technology                 Leo Koguan        5400             49\n",
      "471     Telecom  Carlos Slim Helu & family       93000              1\n",
      "472     Telecom              Masayoshi Son       22400              2\n",
      "473     Telecom             Rocco Commisso        7800              3\n",
      "474     Telecom                Xavier Niel        6700              4\n",
      "\n",
      "[475 rows x 4 columns]\n"
     ]
    }
   ],
   "source": [
    "import pandas as pd\n",
    "from pandasql import sqldf\n",
    "import queries\n",
    "\n",
    "df=pd.read_csv('billionaire.csv')\n",
    "\n",
    "query = queries.BILLIONAIRE_QUERY\n",
    "result = sqldf(query)\n",
    "print(result)\n"
   ]
  }
 ],
 "metadata": {
  "kernelspec": {
   "display_name": "Python 3",
   "language": "python",
   "name": "python3"
  },
  "language_info": {
   "codemirror_mode": {
    "name": "ipython",
    "version": 3
   },
   "file_extension": ".py",
   "mimetype": "text/x-python",
   "name": "python",
   "nbconvert_exporter": "python",
   "pygments_lexer": "ipython3",
   "version": "3.12.7"
  }
 },
 "nbformat": 4,
 "nbformat_minor": 2
}
